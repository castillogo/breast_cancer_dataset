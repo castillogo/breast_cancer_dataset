{
 "cells": [
  {
   "cell_type": "code",
   "execution_count": 1,
   "metadata": {},
   "outputs": [],
   "source": [
    "from sklearn.metrics import log_loss"
   ]
  },
  {
   "cell_type": "code",
   "execution_count": 2,
   "metadata": {},
   "outputs": [
    {
     "ename": "ModuleNotFoundError",
     "evalue": "No module named 'numy'",
     "output_type": "error",
     "traceback": [
      "\u001b[1;31m---------------------------------------------------------------------------\u001b[0m",
      "\u001b[1;31mModuleNotFoundError\u001b[0m                       Traceback (most recent call last)",
      "\u001b[1;32m<ipython-input-2-508e9127b036>\u001b[0m in \u001b[0;36m<module>\u001b[1;34m\u001b[0m\n\u001b[1;32m----> 1\u001b[1;33m \u001b[1;32mimport\u001b[0m \u001b[0mnumy\u001b[0m \u001b[1;32mas\u001b[0m \u001b[0mnp\u001b[0m\u001b[1;33m\u001b[0m\u001b[1;33m\u001b[0m\u001b[0m\n\u001b[0m",
      "\u001b[1;31mModuleNotFoundError\u001b[0m: No module named 'numy'"
     ]
    }
   ],
   "source": [
    "import numy as np"
   ]
  },
  {
   "cell_type": "code",
   "execution_count": 3,
   "metadata": {},
   "outputs": [],
   "source": [
    "import numpy as np"
   ]
  },
  {
   "cell_type": "code",
   "execution_count": 4,
   "metadata": {},
   "outputs": [],
   "source": [
    "ytrue = np.random.binomial(1,0.5, 100)"
   ]
  },
  {
   "cell_type": "code",
   "execution_count": 5,
   "metadata": {},
   "outputs": [
    {
     "data": {
      "text/plain": [
       "array([1, 0, 0, 1, 0, 0, 0, 0, 1, 1, 1, 0, 1, 1, 0, 0, 0, 0, 0, 1, 0, 1,\n",
       "       0, 0, 1, 0, 0, 0, 0, 0, 1, 0, 0, 0, 0, 1, 1, 1, 1, 0, 0, 1, 0, 1,\n",
       "       1, 1, 0, 0, 1, 0, 1, 1, 0, 0, 0, 1, 1, 0, 1, 0, 1, 0, 0, 1, 0, 1,\n",
       "       1, 1, 0, 1, 1, 1, 1, 1, 0, 0, 1, 1, 1, 0, 0, 1, 1, 1, 1, 1, 1, 0,\n",
       "       1, 1, 1, 0, 1, 1, 1, 0, 1, 1, 0, 1])"
      ]
     },
     "execution_count": 5,
     "metadata": {},
     "output_type": "execute_result"
    }
   ],
   "source": [
    "ytrue"
   ]
  },
  {
   "cell_type": "code",
   "execution_count": 6,
   "metadata": {},
   "outputs": [
    {
     "data": {
      "text/plain": [
       "array([1, 0, 0, 1, 0, 0, 0, 0, 1, 1])"
      ]
     },
     "execution_count": 6,
     "metadata": {},
     "output_type": "execute_result"
    }
   ],
   "source": [
    "ytrue[:10]"
   ]
  },
  {
   "cell_type": "code",
   "execution_count": 7,
   "metadata": {},
   "outputs": [],
   "source": [
    "ppred = np.random.random(size=100)"
   ]
  },
  {
   "cell_type": "code",
   "execution_count": 8,
   "metadata": {},
   "outputs": [
    {
     "data": {
      "text/plain": [
       "array([0.24818336, 0.48265526, 0.33255375, 0.34345694, 0.23160705,\n",
       "       0.35764411, 0.78077157, 0.02826644, 0.93196058, 0.15495489])"
      ]
     },
     "execution_count": 8,
     "metadata": {},
     "output_type": "execute_result"
    }
   ],
   "source": [
    "ppred[:10]"
   ]
  },
  {
   "cell_type": "code",
   "execution_count": 9,
   "metadata": {},
   "outputs": [
    {
     "data": {
      "text/plain": [
       "1.1196890636196957"
      ]
     },
     "execution_count": 9,
     "metadata": {},
     "output_type": "execute_result"
    }
   ],
   "source": [
    "log_loss(ytrue, ppred)"
   ]
  },
  {
   "cell_type": "code",
   "execution_count": 10,
   "metadata": {},
   "outputs": [],
   "source": [
    "ppred2 = (ytrue + 0.01)*np.random.random(size=100)"
   ]
  },
  {
   "cell_type": "code",
   "execution_count": 11,
   "metadata": {},
   "outputs": [
    {
     "data": {
      "text/plain": [
       "array([5.67172204e-01, 1.94636861e-03, 2.14277953e-03, 1.06506422e-01,\n",
       "       3.31575784e-03, 9.13472690e-03, 3.95761186e-03, 7.98926244e-03,\n",
       "       6.13067823e-01, 2.65910346e-01, 1.86842614e-01, 9.70228232e-03,\n",
       "       7.58512439e-01, 9.05984068e-01, 4.92389459e-03, 2.12709242e-03,\n",
       "       5.16962742e-03, 7.04567995e-03, 8.69589543e-03, 9.93002858e-01,\n",
       "       7.63842017e-03, 2.01131220e-01, 2.63530258e-03, 1.90599585e-03,\n",
       "       2.28331779e-01, 7.32405613e-03, 4.80299192e-03, 7.21874565e-03,\n",
       "       4.27462636e-03, 5.58054906e-03, 8.20528192e-01, 1.78926127e-03,\n",
       "       1.34396212e-03, 8.10791670e-03, 7.18244866e-03, 9.48122273e-01,\n",
       "       1.65451599e-01, 6.93464574e-01, 1.14189484e-01, 6.81880583e-03,\n",
       "       3.61592875e-03, 2.91657167e-01, 9.54663313e-03, 3.08805399e-01,\n",
       "       6.59389558e-01, 7.13553374e-01, 2.68526747e-03, 2.93998092e-03,\n",
       "       2.05870199e-01, 1.22010954e-03, 7.43707594e-01, 7.65384741e-01,\n",
       "       6.08449648e-03, 2.61695471e-03, 7.55194879e-03, 7.42590128e-01,\n",
       "       3.45321579e-01, 3.16451196e-03, 8.60501931e-01, 9.13035339e-03,\n",
       "       2.59872610e-01, 3.45802874e-03, 9.51822187e-03, 4.02657557e-01,\n",
       "       5.18306718e-03, 3.17963365e-01, 3.43771682e-01, 7.76300430e-01,\n",
       "       4.25641530e-05, 3.71081238e-01, 8.78431182e-02, 9.36442365e-01,\n",
       "       4.18560197e-03, 4.32366177e-01, 4.91068095e-03, 2.04214021e-03,\n",
       "       2.08305191e-01, 8.06876093e-01, 2.67499647e-01, 4.15676749e-03,\n",
       "       8.34776568e-03, 8.91133566e-01, 7.27050344e-01, 9.27108388e-01,\n",
       "       6.71862194e-01, 5.66321107e-01, 4.05679763e-01, 4.22544178e-03,\n",
       "       3.70697690e-01, 3.37020159e-01, 3.51412761e-01, 7.37464944e-03,\n",
       "       9.38015673e-01, 1.33522137e-01, 8.02959939e-01, 8.95833271e-04,\n",
       "       3.08946204e-01, 4.14055708e-01, 6.91101499e-03, 4.87920390e-01])"
      ]
     },
     "execution_count": 11,
     "metadata": {},
     "output_type": "execute_result"
    }
   ],
   "source": [
    "ppred2"
   ]
  },
  {
   "cell_type": "code",
   "execution_count": 12,
   "metadata": {},
   "outputs": [
    {
     "data": {
      "text/plain": [
       "array([0.567, 0.002, 0.002, 0.107, 0.003, 0.009, 0.004, 0.008, 0.613,\n",
       "       0.266, 0.187, 0.01 , 0.759, 0.906, 0.005, 0.002, 0.005, 0.007,\n",
       "       0.009, 0.993, 0.008, 0.201, 0.003, 0.002, 0.228, 0.007, 0.005,\n",
       "       0.007, 0.004, 0.006, 0.821, 0.002, 0.001, 0.008, 0.007, 0.948,\n",
       "       0.165, 0.693, 0.114, 0.007, 0.004, 0.292, 0.01 , 0.309, 0.659,\n",
       "       0.714, 0.003, 0.003, 0.206, 0.001, 0.744, 0.765, 0.006, 0.003,\n",
       "       0.008, 0.743, 0.345, 0.003, 0.861, 0.009, 0.26 , 0.003, 0.01 ,\n",
       "       0.403, 0.005, 0.318, 0.344, 0.776, 0.   , 0.371, 0.088, 0.936,\n",
       "       0.004, 0.432, 0.005, 0.002, 0.208, 0.807, 0.267, 0.004, 0.008,\n",
       "       0.891, 0.727, 0.927, 0.672, 0.566, 0.406, 0.004, 0.371, 0.337,\n",
       "       0.351, 0.007, 0.938, 0.134, 0.803, 0.001, 0.309, 0.414, 0.007,\n",
       "       0.488])"
      ]
     },
     "execution_count": 12,
     "metadata": {},
     "output_type": "execute_result"
    }
   ],
   "source": [
    "ppred2.round(3)"
   ]
  },
  {
   "cell_type": "code",
   "execution_count": 13,
   "metadata": {},
   "outputs": [
    {
     "data": {
      "text/plain": [
       "0.993002857944016"
      ]
     },
     "execution_count": 13,
     "metadata": {},
     "output_type": "execute_result"
    }
   ],
   "source": [
    "ppred2.max()"
   ]
  },
  {
   "cell_type": "code",
   "execution_count": 14,
   "metadata": {},
   "outputs": [
    {
     "data": {
      "text/plain": [
       "array([1, 0, 0, 1, 0, 0, 0, 0, 1, 1])"
      ]
     },
     "execution_count": 14,
     "metadata": {},
     "output_type": "execute_result"
    }
   ],
   "source": [
    " ytrue[:10]"
   ]
  },
  {
   "cell_type": "code",
   "execution_count": 15,
   "metadata": {},
   "outputs": [
    {
     "data": {
      "text/plain": [
       "array([0.567, 0.002, 0.002, 0.107, 0.003, 0.009, 0.004, 0.008, 0.613,\n",
       "       0.266])"
      ]
     },
     "execution_count": 15,
     "metadata": {},
     "output_type": "execute_result"
    }
   ],
   "source": [
    "ppred2[:10].round(3)"
   ]
  },
  {
   "cell_type": "code",
   "execution_count": 16,
   "metadata": {},
   "outputs": [],
   "source": [
    "ppred3 = ytrue +0.1"
   ]
  },
  {
   "cell_type": "code",
   "execution_count": 17,
   "metadata": {},
   "outputs": [
    {
     "data": {
      "text/plain": [
       "array([1.1, 0.1, 0.1, 1.1, 0.1, 0.1, 0.1, 0.1, 1.1, 1.1])"
      ]
     },
     "execution_count": 17,
     "metadata": {},
     "output_type": "execute_result"
    }
   ],
   "source": [
    "ppred3[:10]"
   ]
  },
  {
   "cell_type": "code",
   "execution_count": 18,
   "metadata": {},
   "outputs": [
    {
     "data": {
      "text/plain": [
       "0.04951944235917888"
      ]
     },
     "execution_count": 18,
     "metadata": {},
     "output_type": "execute_result"
    }
   ],
   "source": [
    "log_loss(ytrue, ppred3)"
   ]
  },
  {
   "cell_type": "code",
   "execution_count": null,
   "metadata": {},
   "outputs": [],
   "source": []
  }
 ],
 "metadata": {
  "kernelspec": {
   "display_name": "Python 3",
   "language": "python",
   "name": "python3"
  },
  "language_info": {
   "codemirror_mode": {
    "name": "ipython",
    "version": 3
   },
   "file_extension": ".py",
   "mimetype": "text/x-python",
   "name": "python",
   "nbconvert_exporter": "python",
   "pygments_lexer": "ipython3",
   "version": "3.7.4"
  }
 },
 "nbformat": 4,
 "nbformat_minor": 2
}
